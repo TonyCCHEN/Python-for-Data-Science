{
 "cells": [
  {
   "cell_type": "markdown",
   "metadata": {
    "collapsed": false
   },
   "source": [
    "#資料分析程式碼\n",
    "#資料分析程式碼（佔總成績50%）\n",
    "#資料集規格：自選資料集（至多使用2個）完成所有分析要求，原始資料不得小於1000筆/列。\n",
    "#程式規格：全部執行出結果的 .ipynb檔，並於撰寫的功能加上標題（使用Markdown或heading）\n",
    "#實作項目規格：請依下表選擇實作的項目，各項評分只有完成/未完成兩種分數(滿分/0分)。老師若有建議會再直接回覆，與計分無關。\n",
    "\n",
    "作業目的：檢視近期成立公司與解散公司的數量與資本總額, 來驗證台灣是否在投資擴張或緊縮\n",
    "\n"
   ]
  },
  {
   "cell_type": "code",
   "execution_count": 445,
   "metadata": {
    "collapsed": false
   },
   "outputs": [
    {
     "data": {
      "text/html": [
       "<div>\n",
       "<table border=\"1\" class=\"dataframe\">\n",
       "  <thead>\n",
       "    <tr style=\"text-align: right;\">\n",
       "      <th></th>\n",
       "      <th>序號</th>\n",
       "      <th>統一編號</th>\n",
       "      <th>公司名稱</th>\n",
       "      <th>公司所在地</th>\n",
       "      <th>代表人</th>\n",
       "      <th>資本額</th>\n",
       "      <th>核准設立日期</th>\n",
       "    </tr>\n",
       "  </thead>\n",
       "  <tbody>\n",
       "    <tr>\n",
       "      <th>0</th>\n",
       "      <td>1</td>\n",
       "      <td>28114200</td>\n",
       "      <td>鼎謙科技股份有限公司</td>\n",
       "      <td>苗栗縣竹南鎮科東三路18號1樓</td>\n",
       "      <td>陳子江</td>\n",
       "      <td>4000000</td>\n",
       "      <td>1051006</td>\n",
       "    </tr>\n",
       "    <tr>\n",
       "      <th>1</th>\n",
       "      <td>2</td>\n",
       "      <td>28114216</td>\n",
       "      <td>創玖科技股份有限公司</td>\n",
       "      <td>新竹市力行一路1號1樓之1B5-3</td>\n",
       "      <td>李俊毅</td>\n",
       "      <td>1000000</td>\n",
       "      <td>1051014</td>\n",
       "    </tr>\n",
       "    <tr>\n",
       "      <th>2</th>\n",
       "      <td>3</td>\n",
       "      <td>51017601</td>\n",
       "      <td>大陸商太倉廣福農業開發有限公司</td>\n",
       "      <td>臺北市信義區忠孝東路5段1-8號2樓</td>\n",
       "      <td>谷非</td>\n",
       "      <td>0</td>\n",
       "      <td>1051006</td>\n",
       "    </tr>\n",
       "    <tr>\n",
       "      <th>3</th>\n",
       "      <td>4</td>\n",
       "      <td>51034209</td>\n",
       "      <td>澳洲商盈盛市場行銷顧問股份有限公司</td>\n",
       "      <td>臺北市中山區松江路122號11樓</td>\n",
       "      <td>郭舜宜</td>\n",
       "      <td>1000000</td>\n",
       "      <td>1051003</td>\n",
       "    </tr>\n",
       "    <tr>\n",
       "      <th>4</th>\n",
       "      <td>5</td>\n",
       "      <td>51039204</td>\n",
       "      <td>菲律賓商主恩漁業股份限公司</td>\n",
       "      <td>高雄市前鎮區萬和街12號13樓</td>\n",
       "      <td>Benjamin  Chua  III</td>\n",
       "      <td>0</td>\n",
       "      <td>1051013</td>\n",
       "    </tr>\n",
       "  </tbody>\n",
       "</table>\n",
       "</div>"
      ],
      "text/plain": [
       "   序號      統一編號               公司名稱               公司所在地                  代表人  \\\n",
       "0   1  28114200         鼎謙科技股份有限公司     苗栗縣竹南鎮科東三路18號1樓                  陳子江   \n",
       "1   2  28114216         創玖科技股份有限公司   新竹市力行一路1號1樓之1B5-3                  李俊毅   \n",
       "2   3  51017601    大陸商太倉廣福農業開發有限公司  臺北市信義區忠孝東路5段1-8號2樓                   谷非   \n",
       "3   4  51034209  澳洲商盈盛市場行銷顧問股份有限公司    臺北市中山區松江路122號11樓                  郭舜宜   \n",
       "4   5  51039204      菲律賓商主恩漁業股份限公司     高雄市前鎮區萬和街12號13樓  Benjamin  Chua  III   \n",
       "\n",
       "       資本額   核准設立日期  \n",
       "0  4000000  1051006  \n",
       "1  1000000  1051014  \n",
       "2        0  1051006  \n",
       "3  1000000  1051003  \n",
       "4        0  1051013  "
      ]
     },
     "execution_count": 445,
     "metadata": {},
     "output_type": "execute_result"
    }
   ],
   "source": [
    "import pandas as pd\n",
    "#讀取CSV 資料來源開放政府 公司設立登記清冊(201610) http://data.gov.tw/node/6047\n",
    "#讀取CSV \n",
    "df1 = pd.read_csv(\"公司設立登記清冊201610.csv\",encoding=\"utf8\") \n",
    "df1[:5]"
   ]
  },
  {
   "cell_type": "code",
   "execution_count": 446,
   "metadata": {
    "collapsed": false
   },
   "outputs": [
    {
     "data": {
      "text/html": [
       "<div>\n",
       "<table border=\"1\" class=\"dataframe\">\n",
       "  <thead>\n",
       "    <tr style=\"text-align: right;\">\n",
       "      <th></th>\n",
       "      <th>﻿\"序號\"</th>\n",
       "      <th>統一編號</th>\n",
       "      <th>公司名稱</th>\n",
       "      <th>公司所在地</th>\n",
       "      <th>代表人</th>\n",
       "      <th>資本額</th>\n",
       "      <th>核准設立日期</th>\n",
       "      <th>核准解散日期</th>\n",
       "    </tr>\n",
       "  </thead>\n",
       "  <tbody>\n",
       "    <tr>\n",
       "      <th>0</th>\n",
       "      <td>1</td>\n",
       "      <td>673435</td>\n",
       "      <td>基山鐘錶眼鏡有限公司</td>\n",
       "      <td>基隆市忠二路三二號</td>\n",
       "      <td>NaN</td>\n",
       "      <td>500000</td>\n",
       "      <td>640816</td>\n",
       "      <td>1051007</td>\n",
       "    </tr>\n",
       "    <tr>\n",
       "      <th>1</th>\n",
       "      <td>2</td>\n",
       "      <td>3207048</td>\n",
       "      <td>利泰科學儀器有限公司</td>\n",
       "      <td>臺北市松山區寶清街34號1樓</td>\n",
       "      <td>NaN</td>\n",
       "      <td>1500000</td>\n",
       "      <td>740808</td>\n",
       "      <td>1051014</td>\n",
       "    </tr>\n",
       "    <tr>\n",
       "      <th>2</th>\n",
       "      <td>3</td>\n",
       "      <td>3600470</td>\n",
       "      <td>東益貿易股份有限公司</td>\n",
       "      <td>臺北市中山區復興北路2號11樓之6</td>\n",
       "      <td>NaN</td>\n",
       "      <td>50000000</td>\n",
       "      <td>480304</td>\n",
       "      <td>1051004</td>\n",
       "    </tr>\n",
       "    <tr>\n",
       "      <th>3</th>\n",
       "      <td>4</td>\n",
       "      <td>4383850</td>\n",
       "      <td>幸德實業股份有限公司</td>\n",
       "      <td>臺北市大同區重慶北路3段96號3樓之2</td>\n",
       "      <td>NaN</td>\n",
       "      <td>5000000</td>\n",
       "      <td>620808</td>\n",
       "      <td>1051006</td>\n",
       "    </tr>\n",
       "    <tr>\n",
       "      <th>4</th>\n",
       "      <td>5</td>\n",
       "      <td>4506500</td>\n",
       "      <td>汎辰企業有限公司</td>\n",
       "      <td>新北市三重區重陽路4段41號(1樓)</td>\n",
       "      <td>NaN</td>\n",
       "      <td>2000000</td>\n",
       "      <td>710429</td>\n",
       "      <td>1051020</td>\n",
       "    </tr>\n",
       "  </tbody>\n",
       "</table>\n",
       "</div>"
      ],
      "text/plain": [
       "   ﻿\"序號\"     統一編號        公司名稱                公司所在地  代表人       資本額  核准設立日期  \\\n",
       "0      1   673435  基山鐘錶眼鏡有限公司            基隆市忠二路三二號  NaN    500000  640816   \n",
       "1      2  3207048  利泰科學儀器有限公司       臺北市松山區寶清街34號1樓  NaN   1500000  740808   \n",
       "2      3  3600470  東益貿易股份有限公司    臺北市中山區復興北路2號11樓之6  NaN  50000000  480304   \n",
       "3      4  4383850  幸德實業股份有限公司  臺北市大同區重慶北路3段96號3樓之2  NaN   5000000  620808   \n",
       "4      5  4506500    汎辰企業有限公司   新北市三重區重陽路4段41號(1樓)  NaN   2000000  710429   \n",
       "\n",
       "    核准解散日期  \n",
       "0  1051007  \n",
       "1  1051014  \n",
       "2  1051004  \n",
       "3  1051006  \n",
       "4  1051020  "
      ]
     },
     "execution_count": 446,
     "metadata": {},
     "output_type": "execute_result"
    }
   ],
   "source": [
    "# 公司解散登記清冊(201610) http://data.gov.tw/node/6049\n",
    "df2 = pd.read_csv(\"公司解散登記清冊201610.csv\",encoding=\"utf8\")\n",
    "df2[:5]"
   ]
  },
  {
   "cell_type": "markdown",
   "metadata": {
    "collapsed": false
   },
   "source": [
    "資料預處理（清理、轉換、JOIN）:"
   ]
  },
  {
   "cell_type": "code",
   "execution_count": 447,
   "metadata": {
    "collapsed": false,
    "scrolled": true
   },
   "outputs": [
    {
     "data": {
      "text/html": [
       "<div>\n",
       "<table border=\"1\" class=\"dataframe\">\n",
       "  <thead>\n",
       "    <tr style=\"text-align: right;\">\n",
       "      <th></th>\n",
       "      <th>序號</th>\n",
       "      <th>統一編號</th>\n",
       "      <th>公司名稱</th>\n",
       "      <th>公司所在地</th>\n",
       "      <th>資本額</th>\n",
       "      <th>核准設立日期</th>\n",
       "    </tr>\n",
       "  </thead>\n",
       "  <tbody>\n",
       "    <tr>\n",
       "      <th>0</th>\n",
       "      <td>1</td>\n",
       "      <td>28114200</td>\n",
       "      <td>鼎謙科技股份有限公司</td>\n",
       "      <td>苗栗縣竹南鎮科東三路18號1樓</td>\n",
       "      <td>4000000</td>\n",
       "      <td>1051006</td>\n",
       "    </tr>\n",
       "    <tr>\n",
       "      <th>1</th>\n",
       "      <td>2</td>\n",
       "      <td>28114216</td>\n",
       "      <td>創玖科技股份有限公司</td>\n",
       "      <td>新竹市力行一路1號1樓之1B5-3</td>\n",
       "      <td>1000000</td>\n",
       "      <td>1051014</td>\n",
       "    </tr>\n",
       "    <tr>\n",
       "      <th>2</th>\n",
       "      <td>3</td>\n",
       "      <td>51017601</td>\n",
       "      <td>大陸商太倉廣福農業開發有限公司</td>\n",
       "      <td>臺北市信義區忠孝東路5段1-8號2樓</td>\n",
       "      <td>0</td>\n",
       "      <td>1051006</td>\n",
       "    </tr>\n",
       "    <tr>\n",
       "      <th>3</th>\n",
       "      <td>4</td>\n",
       "      <td>51034209</td>\n",
       "      <td>澳洲商盈盛市場行銷顧問股份有限公司</td>\n",
       "      <td>臺北市中山區松江路122號11樓</td>\n",
       "      <td>1000000</td>\n",
       "      <td>1051003</td>\n",
       "    </tr>\n",
       "    <tr>\n",
       "      <th>4</th>\n",
       "      <td>5</td>\n",
       "      <td>51039204</td>\n",
       "      <td>菲律賓商主恩漁業股份限公司</td>\n",
       "      <td>高雄市前鎮區萬和街12號13樓</td>\n",
       "      <td>0</td>\n",
       "      <td>1051013</td>\n",
       "    </tr>\n",
       "  </tbody>\n",
       "</table>\n",
       "</div>"
      ],
      "text/plain": [
       "   序號      統一編號               公司名稱               公司所在地      資本額   核准設立日期\n",
       "0   1  28114200         鼎謙科技股份有限公司     苗栗縣竹南鎮科東三路18號1樓  4000000  1051006\n",
       "1   2  28114216         創玖科技股份有限公司   新竹市力行一路1號1樓之1B5-3  1000000  1051014\n",
       "2   3  51017601    大陸商太倉廣福農業開發有限公司  臺北市信義區忠孝東路5段1-8號2樓        0  1051006\n",
       "3   4  51034209  澳洲商盈盛市場行銷顧問股份有限公司    臺北市中山區松江路122號11樓  1000000  1051003\n",
       "4   5  51039204      菲律賓商主恩漁業股份限公司     高雄市前鎮區萬和街12號13樓        0  1051013"
      ]
     },
     "execution_count": 447,
     "metadata": {},
     "output_type": "execute_result"
    }
   ],
   "source": [
    "#清理NaN, 將上述設立公司csv檔中未有代表人,資本額的做清除動作\n",
    "df1 = df1[df1['代表人'].notnull()]\n",
    "df1 = df1[df1['資本額'].notnull()]\n",
    "\n",
    "del df1['代表人'] #移除代表人欄位\n",
    "df1[:5]"
   ]
  },
  {
   "cell_type": "code",
   "execution_count": 448,
   "metadata": {
    "collapsed": false
   },
   "outputs": [
    {
     "data": {
      "text/html": [
       "<div>\n",
       "<table border=\"1\" class=\"dataframe\">\n",
       "  <thead>\n",
       "    <tr style=\"text-align: right;\">\n",
       "      <th></th>\n",
       "      <th>﻿\"序號\"</th>\n",
       "      <th>統一編號</th>\n",
       "      <th>公司名稱</th>\n",
       "      <th>公司所在地</th>\n",
       "      <th>資本額</th>\n",
       "      <th>核准設立日期</th>\n",
       "      <th>核准解散日期</th>\n",
       "    </tr>\n",
       "  </thead>\n",
       "  <tbody>\n",
       "    <tr>\n",
       "      <th>0</th>\n",
       "      <td>1</td>\n",
       "      <td>673435</td>\n",
       "      <td>基山鐘錶眼鏡有限公司</td>\n",
       "      <td>基隆市忠二路三二號</td>\n",
       "      <td>500000</td>\n",
       "      <td>640816</td>\n",
       "      <td>1051007</td>\n",
       "    </tr>\n",
       "    <tr>\n",
       "      <th>1</th>\n",
       "      <td>2</td>\n",
       "      <td>3207048</td>\n",
       "      <td>利泰科學儀器有限公司</td>\n",
       "      <td>臺北市松山區寶清街34號1樓</td>\n",
       "      <td>1500000</td>\n",
       "      <td>740808</td>\n",
       "      <td>1051014</td>\n",
       "    </tr>\n",
       "    <tr>\n",
       "      <th>2</th>\n",
       "      <td>3</td>\n",
       "      <td>3600470</td>\n",
       "      <td>東益貿易股份有限公司</td>\n",
       "      <td>臺北市中山區復興北路2號11樓之6</td>\n",
       "      <td>50000000</td>\n",
       "      <td>480304</td>\n",
       "      <td>1051004</td>\n",
       "    </tr>\n",
       "    <tr>\n",
       "      <th>3</th>\n",
       "      <td>4</td>\n",
       "      <td>4383850</td>\n",
       "      <td>幸德實業股份有限公司</td>\n",
       "      <td>臺北市大同區重慶北路3段96號3樓之2</td>\n",
       "      <td>5000000</td>\n",
       "      <td>620808</td>\n",
       "      <td>1051006</td>\n",
       "    </tr>\n",
       "    <tr>\n",
       "      <th>4</th>\n",
       "      <td>5</td>\n",
       "      <td>4506500</td>\n",
       "      <td>汎辰企業有限公司</td>\n",
       "      <td>新北市三重區重陽路4段41號(1樓)</td>\n",
       "      <td>2000000</td>\n",
       "      <td>710429</td>\n",
       "      <td>1051020</td>\n",
       "    </tr>\n",
       "  </tbody>\n",
       "</table>\n",
       "</div>"
      ],
      "text/plain": [
       "   ﻿\"序號\"     統一編號        公司名稱                公司所在地       資本額  核准設立日期   核准解散日期\n",
       "0      1   673435  基山鐘錶眼鏡有限公司            基隆市忠二路三二號    500000  640816  1051007\n",
       "1      2  3207048  利泰科學儀器有限公司       臺北市松山區寶清街34號1樓   1500000  740808  1051014\n",
       "2      3  3600470  東益貿易股份有限公司    臺北市中山區復興北路2號11樓之6  50000000  480304  1051004\n",
       "3      4  4383850  幸德實業股份有限公司  臺北市大同區重慶北路3段96號3樓之2   5000000  620808  1051006\n",
       "4      5  4506500    汎辰企業有限公司   新北市三重區重陽路4段41號(1樓)   2000000  710429  1051020"
      ]
     },
     "execution_count": 448,
     "metadata": {},
     "output_type": "execute_result"
    }
   ],
   "source": [
    "#解散公司資料多數未列上代表人, 儘清除資本額\n",
    "df2 = df2[df2['資本額'].notnull()]\n",
    "\n",
    "del df2['代表人']\n",
    "df2[:5]  "
   ]
  },
  {
   "cell_type": "markdown",
   "metadata": {},
   "source": [
    "資料預處理:轉換,將公司所在地&資本額做分組所在地取出前面的縣市資訊取出做後續分佈判讀"
   ]
  },
  {
   "cell_type": "code",
   "execution_count": 449,
   "metadata": {
    "collapsed": false
   },
   "outputs": [
    {
     "data": {
      "text/html": [
       "<div>\n",
       "<table border=\"1\" class=\"dataframe\">\n",
       "  <thead>\n",
       "    <tr style=\"text-align: right;\">\n",
       "      <th></th>\n",
       "      <th>序號</th>\n",
       "      <th>統一編號</th>\n",
       "      <th>公司名稱</th>\n",
       "      <th>公司所在地</th>\n",
       "      <th>資本額</th>\n",
       "      <th>核准設立日期</th>\n",
       "      <th>所在地</th>\n",
       "    </tr>\n",
       "  </thead>\n",
       "  <tbody>\n",
       "    <tr>\n",
       "      <th>0</th>\n",
       "      <td>1</td>\n",
       "      <td>28114200</td>\n",
       "      <td>鼎謙科技股份有限公司</td>\n",
       "      <td>苗栗縣竹南鎮科東三路18號1樓</td>\n",
       "      <td>4000000</td>\n",
       "      <td>1051006</td>\n",
       "      <td>苗栗縣</td>\n",
       "    </tr>\n",
       "    <tr>\n",
       "      <th>1</th>\n",
       "      <td>2</td>\n",
       "      <td>28114216</td>\n",
       "      <td>創玖科技股份有限公司</td>\n",
       "      <td>新竹市力行一路1號1樓之1B5-3</td>\n",
       "      <td>1000000</td>\n",
       "      <td>1051014</td>\n",
       "      <td>新竹市</td>\n",
       "    </tr>\n",
       "    <tr>\n",
       "      <th>2</th>\n",
       "      <td>3</td>\n",
       "      <td>51017601</td>\n",
       "      <td>大陸商太倉廣福農業開發有限公司</td>\n",
       "      <td>臺北市信義區忠孝東路5段1-8號2樓</td>\n",
       "      <td>0</td>\n",
       "      <td>1051006</td>\n",
       "      <td>臺北市</td>\n",
       "    </tr>\n",
       "    <tr>\n",
       "      <th>3</th>\n",
       "      <td>4</td>\n",
       "      <td>51034209</td>\n",
       "      <td>澳洲商盈盛市場行銷顧問股份有限公司</td>\n",
       "      <td>臺北市中山區松江路122號11樓</td>\n",
       "      <td>1000000</td>\n",
       "      <td>1051003</td>\n",
       "      <td>臺北市</td>\n",
       "    </tr>\n",
       "    <tr>\n",
       "      <th>4</th>\n",
       "      <td>5</td>\n",
       "      <td>51039204</td>\n",
       "      <td>菲律賓商主恩漁業股份限公司</td>\n",
       "      <td>高雄市前鎮區萬和街12號13樓</td>\n",
       "      <td>0</td>\n",
       "      <td>1051013</td>\n",
       "      <td>高雄市</td>\n",
       "    </tr>\n",
       "  </tbody>\n",
       "</table>\n",
       "</div>"
      ],
      "text/plain": [
       "   序號      統一編號               公司名稱               公司所在地      資本額   核准設立日期  所在地\n",
       "0   1  28114200         鼎謙科技股份有限公司     苗栗縣竹南鎮科東三路18號1樓  4000000  1051006  苗栗縣\n",
       "1   2  28114216         創玖科技股份有限公司   新竹市力行一路1號1樓之1B5-3  1000000  1051014  新竹市\n",
       "2   3  51017601    大陸商太倉廣福農業開發有限公司  臺北市信義區忠孝東路5段1-8號2樓        0  1051006  臺北市\n",
       "3   4  51034209  澳洲商盈盛市場行銷顧問股份有限公司    臺北市中山區松江路122號11樓  1000000  1051003  臺北市\n",
       "4   5  51039204      菲律賓商主恩漁業股份限公司     高雄市前鎮區萬和街12號13樓        0  1051013  高雄市"
      ]
     },
     "execution_count": 449,
     "metadata": {},
     "output_type": "execute_result"
    }
   ],
   "source": [
    "#先將DataFrame取出所在地、資本額做後續分群使用\n",
    "df1_loc=df1['公司所在地'].map(lambda x: str(x)[0:3])\n",
    "#新增欄到設立公司的dataframe中\n",
    "df1['所在地']=df1_loc\n",
    "df1[:5]"
   ]
  },
  {
   "cell_type": "code",
   "execution_count": 450,
   "metadata": {
    "collapsed": false
   },
   "outputs": [
    {
     "data": {
      "text/html": [
       "<div>\n",
       "<table border=\"1\" class=\"dataframe\">\n",
       "  <thead>\n",
       "    <tr style=\"text-align: right;\">\n",
       "      <th></th>\n",
       "      <th>﻿\"序號\"</th>\n",
       "      <th>統一編號</th>\n",
       "      <th>公司名稱</th>\n",
       "      <th>公司所在地</th>\n",
       "      <th>資本額</th>\n",
       "      <th>核准設立日期</th>\n",
       "      <th>核准解散日期</th>\n",
       "      <th>所在地</th>\n",
       "    </tr>\n",
       "  </thead>\n",
       "  <tbody>\n",
       "    <tr>\n",
       "      <th>0</th>\n",
       "      <td>1</td>\n",
       "      <td>673435</td>\n",
       "      <td>基山鐘錶眼鏡有限公司</td>\n",
       "      <td>基隆市忠二路三二號</td>\n",
       "      <td>500000</td>\n",
       "      <td>640816</td>\n",
       "      <td>1051007</td>\n",
       "      <td>基隆市</td>\n",
       "    </tr>\n",
       "    <tr>\n",
       "      <th>1</th>\n",
       "      <td>2</td>\n",
       "      <td>3207048</td>\n",
       "      <td>利泰科學儀器有限公司</td>\n",
       "      <td>臺北市松山區寶清街34號1樓</td>\n",
       "      <td>1500000</td>\n",
       "      <td>740808</td>\n",
       "      <td>1051014</td>\n",
       "      <td>臺北市</td>\n",
       "    </tr>\n",
       "    <tr>\n",
       "      <th>2</th>\n",
       "      <td>3</td>\n",
       "      <td>3600470</td>\n",
       "      <td>東益貿易股份有限公司</td>\n",
       "      <td>臺北市中山區復興北路2號11樓之6</td>\n",
       "      <td>50000000</td>\n",
       "      <td>480304</td>\n",
       "      <td>1051004</td>\n",
       "      <td>臺北市</td>\n",
       "    </tr>\n",
       "    <tr>\n",
       "      <th>3</th>\n",
       "      <td>4</td>\n",
       "      <td>4383850</td>\n",
       "      <td>幸德實業股份有限公司</td>\n",
       "      <td>臺北市大同區重慶北路3段96號3樓之2</td>\n",
       "      <td>5000000</td>\n",
       "      <td>620808</td>\n",
       "      <td>1051006</td>\n",
       "      <td>臺北市</td>\n",
       "    </tr>\n",
       "    <tr>\n",
       "      <th>4</th>\n",
       "      <td>5</td>\n",
       "      <td>4506500</td>\n",
       "      <td>汎辰企業有限公司</td>\n",
       "      <td>新北市三重區重陽路4段41號(1樓)</td>\n",
       "      <td>2000000</td>\n",
       "      <td>710429</td>\n",
       "      <td>1051020</td>\n",
       "      <td>新北市</td>\n",
       "    </tr>\n",
       "  </tbody>\n",
       "</table>\n",
       "</div>"
      ],
      "text/plain": [
       "   ﻿\"序號\"     統一編號        公司名稱                公司所在地       資本額  核准設立日期   核准解散日期  \\\n",
       "0      1   673435  基山鐘錶眼鏡有限公司            基隆市忠二路三二號    500000  640816  1051007   \n",
       "1      2  3207048  利泰科學儀器有限公司       臺北市松山區寶清街34號1樓   1500000  740808  1051014   \n",
       "2      3  3600470  東益貿易股份有限公司    臺北市中山區復興北路2號11樓之6  50000000  480304  1051004   \n",
       "3      4  4383850  幸德實業股份有限公司  臺北市大同區重慶北路3段96號3樓之2   5000000  620808  1051006   \n",
       "4      5  4506500    汎辰企業有限公司   新北市三重區重陽路4段41號(1樓)   2000000  710429  1051020   \n",
       "\n",
       "   所在地  \n",
       "0  基隆市  \n",
       "1  臺北市  \n",
       "2  臺北市  \n",
       "3  臺北市  \n",
       "4  新北市  "
      ]
     },
     "execution_count": 450,
     "metadata": {},
     "output_type": "execute_result"
    }
   ],
   "source": [
    "df2_loc=df2['公司所在地'].map(lambda x: str(x)[0:3])  #將所在地新增放入dataframe\n",
    "df2['所在地']=df2_loc\n",
    "df2[:5]"
   ]
  },
  {
   "cell_type": "code",
   "execution_count": 451,
   "metadata": {
    "collapsed": false
   },
   "outputs": [
    {
     "data": {
      "text/html": [
       "<div>\n",
       "<table border=\"1\" class=\"dataframe\">\n",
       "  <thead>\n",
       "    <tr style=\"text-align: right;\">\n",
       "      <th></th>\n",
       "      <th>﻿\"序號\"</th>\n",
       "      <th>統一編號</th>\n",
       "      <th>資本額</th>\n",
       "      <th>核准設立日期</th>\n",
       "      <th>核准解散日期</th>\n",
       "    </tr>\n",
       "  </thead>\n",
       "  <tbody>\n",
       "    <tr>\n",
       "      <th>﻿\"序號\"</th>\n",
       "      <td>1.000000</td>\n",
       "      <td>0.952327</td>\n",
       "      <td>0.034121</td>\n",
       "      <td>0.070035</td>\n",
       "      <td>0.016460</td>\n",
       "    </tr>\n",
       "    <tr>\n",
       "      <th>統一編號</th>\n",
       "      <td>0.952327</td>\n",
       "      <td>1.000000</td>\n",
       "      <td>0.034579</td>\n",
       "      <td>-0.072577</td>\n",
       "      <td>0.000387</td>\n",
       "    </tr>\n",
       "    <tr>\n",
       "      <th>資本額</th>\n",
       "      <td>0.034121</td>\n",
       "      <td>0.034579</td>\n",
       "      <td>1.000000</td>\n",
       "      <td>-0.025129</td>\n",
       "      <td>0.003222</td>\n",
       "    </tr>\n",
       "    <tr>\n",
       "      <th>核准設立日期</th>\n",
       "      <td>0.070035</td>\n",
       "      <td>-0.072577</td>\n",
       "      <td>-0.025129</td>\n",
       "      <td>1.000000</td>\n",
       "      <td>0.057618</td>\n",
       "    </tr>\n",
       "    <tr>\n",
       "      <th>核准解散日期</th>\n",
       "      <td>0.016460</td>\n",
       "      <td>0.000387</td>\n",
       "      <td>0.003222</td>\n",
       "      <td>0.057618</td>\n",
       "      <td>1.000000</td>\n",
       "    </tr>\n",
       "  </tbody>\n",
       "</table>\n",
       "</div>"
      ],
      "text/plain": [
       "           ﻿\"序號\"      統一編號       資本額    核准設立日期    核准解散日期\n",
       "﻿\"序號\"   1.000000  0.952327  0.034121  0.070035  0.016460\n",
       "統一編號    0.952327  1.000000  0.034579 -0.072577  0.000387\n",
       "資本額     0.034121  0.034579  1.000000 -0.025129  0.003222\n",
       "核准設立日期  0.070035 -0.072577 -0.025129  1.000000  0.057618\n",
       "核准解散日期  0.016460  0.000387  0.003222  0.057618  1.000000"
      ]
     },
     "execution_count": 451,
     "metadata": {},
     "output_type": "execute_result"
    }
   ],
   "source": [
    "df2.corr()"
   ]
  },
  {
   "cell_type": "code",
   "execution_count": 452,
   "metadata": {
    "collapsed": false
   },
   "outputs": [
    {
     "data": {
      "text/plain": [
       "0    4000000\n",
       "1    1000000\n",
       "2          0\n",
       "3    1000000\n",
       "4          0\n",
       "Name: 資本額, dtype: int64"
      ]
     },
     "execution_count": 452,
     "metadata": {},
     "output_type": "execute_result"
    }
   ],
   "source": [
    "#先將DataFrame取出資本額做後續統計使用\n",
    "df1_cap=df1['資本額']\n",
    "df1_cap[:5]"
   ]
  },
  {
   "cell_type": "code",
   "execution_count": 453,
   "metadata": {
    "collapsed": false
   },
   "outputs": [
    {
     "data": {
      "text/plain": [
       "0      500000\n",
       "1     1500000\n",
       "2    50000000\n",
       "3     5000000\n",
       "4     2000000\n",
       "Name: 資本額, dtype: int64"
      ]
     },
     "execution_count": 453,
     "metadata": {},
     "output_type": "execute_result"
    }
   ],
   "source": [
    "df2_cap=df2['資本額']  #解散公司的資本額\n",
    "df2_cap[:5]"
   ]
  },
  {
   "cell_type": "markdown",
   "metadata": {},
   "source": [
    "投資活動在資本擴張或是緊縮? (設立公司資本額 - 解散公司資本額 )"
   ]
  },
  {
   "cell_type": "code",
   "execution_count": 454,
   "metadata": {
    "collapsed": false
   },
   "outputs": [
    {
     "data": {
      "text/plain": [
       "資本額   -297405367\n",
       "dtype: int64"
      ]
     },
     "execution_count": 454,
     "metadata": {},
     "output_type": "execute_result"
    }
   ],
   "source": [
    "sum_row1=df1[[\"資本額\"]].sum() #設立公司總資本額\n",
    "sum_row2=df2[[\"資本額\"]].sum() #解散公司總資本額\n",
    "\n",
    "x = sum_row1-sum_row2   #設立公司的總資本額 - 解散公司的總資本額 (正為投資擴張, 負為投資緊縮)\n",
    "x"
   ]
  },
  {
   "cell_type": "markdown",
   "metadata": {},
   "source": [
    "透過JOIN: 檢查df1, df2,看有無同時解散又成立公司的條件存在,以避免來源資料有重複key-in"
   ]
  },
  {
   "cell_type": "code",
   "execution_count": 455,
   "metadata": {
    "collapsed": false
   },
   "outputs": [
    {
     "data": {
      "text/html": [
       "<div>\n",
       "<table border=\"1\" class=\"dataframe\">\n",
       "  <thead>\n",
       "    <tr style=\"text-align: right;\">\n",
       "      <th></th>\n",
       "      <th>序號</th>\n",
       "      <th>統一編號</th>\n",
       "      <th>公司名稱_x</th>\n",
       "      <th>公司所在地_x</th>\n",
       "      <th>資本額_x</th>\n",
       "      <th>核准設立日期_x</th>\n",
       "      <th>所在地_x</th>\n",
       "      <th>﻿\"序號\"</th>\n",
       "      <th>公司名稱_y</th>\n",
       "      <th>公司所在地_y</th>\n",
       "      <th>資本額_y</th>\n",
       "      <th>核准設立日期_y</th>\n",
       "      <th>核准解散日期</th>\n",
       "      <th>所在地_y</th>\n",
       "    </tr>\n",
       "  </thead>\n",
       "  <tbody>\n",
       "  </tbody>\n",
       "</table>\n",
       "</div>"
      ],
      "text/plain": [
       "Empty DataFrame\n",
       "Columns: [序號, 統一編號, 公司名稱_x, 公司所在地_x, 資本額_x, 核准設立日期_x, 所在地_x, ﻿\"序號\", 公司名稱_y, 公司所在地_y, 資本額_y, 核准設立日期_y, 核准解散日期, 所在地_y]\n",
       "Index: []"
      ]
     },
     "execution_count": 455,
     "metadata": {},
     "output_type": "execute_result"
    }
   ],
   "source": [
    "df3 = pd.merge(df1,df2,left_on='統一編號',right_on='統一編號',how='inner')\n",
    "df3[:5]"
   ]
  },
  {
   "cell_type": "markdown",
   "metadata": {
    "collapsed": false
   },
   "source": [
    "使⽤樞紐分析表來察看哪些地方有較多的公司設立活動"
   ]
  },
  {
   "cell_type": "code",
   "execution_count": 476,
   "metadata": {
    "collapsed": false
   },
   "outputs": [
    {
     "data": {
      "text/html": [
       "<div>\n",
       "<table border=\"1\" class=\"dataframe\">\n",
       "  <thead>\n",
       "    <tr style=\"text-align: right;\">\n",
       "      <th>年月</th>\n",
       "      <th>10509</th>\n",
       "      <th>10510</th>\n",
       "    </tr>\n",
       "    <tr>\n",
       "      <th>所在地</th>\n",
       "      <th></th>\n",
       "      <th></th>\n",
       "    </tr>\n",
       "  </thead>\n",
       "  <tbody>\n",
       "    <tr>\n",
       "      <th>臺北市</th>\n",
       "      <td>113520000.0</td>\n",
       "      <td>3.476749e+09</td>\n",
       "    </tr>\n",
       "    <tr>\n",
       "      <th>新北市</th>\n",
       "      <td>33128000.0</td>\n",
       "      <td>1.784716e+09</td>\n",
       "    </tr>\n",
       "    <tr>\n",
       "      <th>臺中市</th>\n",
       "      <td>51185000.0</td>\n",
       "      <td>1.565947e+09</td>\n",
       "    </tr>\n",
       "    <tr>\n",
       "      <th>高雄市</th>\n",
       "      <td>241065000.0</td>\n",
       "      <td>1.535148e+09</td>\n",
       "    </tr>\n",
       "    <tr>\n",
       "      <th>臺南市</th>\n",
       "      <td>13400000.0</td>\n",
       "      <td>1.418524e+09</td>\n",
       "    </tr>\n",
       "  </tbody>\n",
       "</table>\n",
       "</div>"
      ],
      "text/plain": [
       "年月         10509         10510\n",
       "所在地                           \n",
       "臺北市  113520000.0  3.476749e+09\n",
       "新北市   33128000.0  1.784716e+09\n",
       "臺中市   51185000.0  1.565947e+09\n",
       "高雄市  241065000.0  1.535148e+09\n",
       "臺南市   13400000.0  1.418524e+09"
      ]
     },
     "execution_count": 476,
     "metadata": {},
     "output_type": "execute_result"
    }
   ],
   "source": [
    "#新增資料年月到dataframe\n",
    "df1['年月']=df1['核准設立日期'].map(lambda x: str(x)[0:5])\n",
    "#利用Pivot Table來檢視看各縣市設立公司的資本總額\n",
    "df1_pivot = df1.pivot_table(values='資本額',index=['年月'],columns='所在地',aggfunc='sum')\n",
    "df1_pivot.T #存在df1_pivot並轉置pivot table以便閱讀\n",
    "df1_sorted = df1_pivot.T.sort_values(['10510'],ascending=False) #排序從投資最多的城市到投資最低的\n",
    "df1_sorted[:5]"
   ]
  },
  {
   "cell_type": "code",
   "execution_count": 477,
   "metadata": {
    "collapsed": false
   },
   "outputs": [
    {
     "data": {
      "text/html": [
       "<div>\n",
       "<table border=\"1\" class=\"dataframe\">\n",
       "  <thead>\n",
       "    <tr style=\"text-align: right;\">\n",
       "      <th>年月</th>\n",
       "      <th>10509</th>\n",
       "      <th>10510</th>\n",
       "    </tr>\n",
       "    <tr>\n",
       "      <th>所在地</th>\n",
       "      <th></th>\n",
       "      <th></th>\n",
       "    </tr>\n",
       "  </thead>\n",
       "  <tbody>\n",
       "    <tr>\n",
       "      <th>臺北市</th>\n",
       "      <td>211600000.0</td>\n",
       "      <td>7.731636e+09</td>\n",
       "    </tr>\n",
       "    <tr>\n",
       "      <th>高雄市</th>\n",
       "      <td>254100000.0</td>\n",
       "      <td>9.915680e+08</td>\n",
       "    </tr>\n",
       "    <tr>\n",
       "      <th>桃園市</th>\n",
       "      <td>31000000.0</td>\n",
       "      <td>8.987300e+08</td>\n",
       "    </tr>\n",
       "    <tr>\n",
       "      <th>臺中市</th>\n",
       "      <td>50000000.0</td>\n",
       "      <td>7.540870e+08</td>\n",
       "    </tr>\n",
       "    <tr>\n",
       "      <th>新北市</th>\n",
       "      <td>126100000.0</td>\n",
       "      <td>7.288849e+08</td>\n",
       "    </tr>\n",
       "  </tbody>\n",
       "</table>\n",
       "</div>"
      ],
      "text/plain": [
       "年月         10509         10510\n",
       "所在地                           \n",
       "臺北市  211600000.0  7.731636e+09\n",
       "高雄市  254100000.0  9.915680e+08\n",
       "桃園市   31000000.0  8.987300e+08\n",
       "臺中市   50000000.0  7.540870e+08\n",
       "新北市  126100000.0  7.288849e+08"
      ]
     },
     "execution_count": 477,
     "metadata": {},
     "output_type": "execute_result"
    }
   ],
   "source": [
    "df2['年月']=df1['核准設立日期'].map(lambda x: str(x)[0:5])\n",
    "#利用Pivot Table來檢視看各縣市解散公司的資本總額\n",
    "df2_pivot=df2.pivot_table(values='資本額',index=['年月'],columns='所在地',aggfunc='sum')\n",
    "\n",
    "df2_sorted = df2_pivot.T.sort_values(['10510'],ascending=False) #排序從投資最多的城市到投資最低的\n",
    "df2_sorted[:5]"
   ]
  },
  {
   "cell_type": "markdown",
   "metadata": {},
   "source": [
    "資料分析方法擇二: 統計分析、相關性分析 (統計分析、相關性分析、購物籃分析、時間序列分析、主次因素分析）"
   ]
  },
  {
   "cell_type": "code",
   "execution_count": 458,
   "metadata": {
    "collapsed": false
   },
   "outputs": [
    {
     "data": {
      "text/plain": [
       "count    3.514000e+03\n",
       "mean     3.536108e+06\n",
       "std      1.865870e+07\n",
       "min      0.000000e+00\n",
       "25%      5.000000e+05\n",
       "50%      1.000000e+06\n",
       "75%      2.000000e+06\n",
       "max      6.000000e+08\n",
       "Name: 資本額, dtype: float64"
      ]
     },
     "execution_count": 458,
     "metadata": {},
     "output_type": "execute_result"
    }
   ],
   "source": [
    "df1_cap.describe() #描述性統計描述設立公司現況"
   ]
  },
  {
   "cell_type": "code",
   "execution_count": 459,
   "metadata": {
    "collapsed": false
   },
   "outputs": [
    {
     "data": {
      "text/plain": [
       "count    1.573000e+03\n",
       "mean     8.088549e+06\n",
       "std      1.531868e+08\n",
       "min      0.000000e+00\n",
       "25%      5.000000e+05\n",
       "50%      1.000000e+06\n",
       "75%      5.000000e+06\n",
       "max      6.063000e+09\n",
       "Name: 資本額, dtype: float64"
      ]
     },
     "execution_count": 459,
     "metadata": {},
     "output_type": "execute_result"
    }
   ],
   "source": [
    "df2_cap.describe()  #描述性統計描述解散公司的資本額"
   ]
  },
  {
   "cell_type": "code",
   "execution_count": 460,
   "metadata": {
    "collapsed": false
   },
   "outputs": [],
   "source": [
    "df1_cap = df1_cap.rename(columns = {'資本額','設立公司資本額'})\n",
    "df2_cap = df2_cap.rename(columns = {'資本額','解散公司資本額'})"
   ]
  },
  {
   "cell_type": "code",
   "execution_count": 461,
   "metadata": {
    "collapsed": false
   },
   "outputs": [
    {
     "data": {
      "text/html": [
       "<div>\n",
       "<table border=\"1\" class=\"dataframe\">\n",
       "  <thead>\n",
       "    <tr style=\"text-align: right;\">\n",
       "      <th></th>\n",
       "      <th>0</th>\n",
       "      <th>1</th>\n",
       "    </tr>\n",
       "  </thead>\n",
       "  <tbody>\n",
       "    <tr>\n",
       "      <th>0</th>\n",
       "      <td>4000000</td>\n",
       "      <td>500000.0</td>\n",
       "    </tr>\n",
       "    <tr>\n",
       "      <th>1</th>\n",
       "      <td>1000000</td>\n",
       "      <td>1500000.0</td>\n",
       "    </tr>\n",
       "    <tr>\n",
       "      <th>2</th>\n",
       "      <td>0</td>\n",
       "      <td>50000000.0</td>\n",
       "    </tr>\n",
       "    <tr>\n",
       "      <th>3</th>\n",
       "      <td>1000000</td>\n",
       "      <td>5000000.0</td>\n",
       "    </tr>\n",
       "    <tr>\n",
       "      <th>4</th>\n",
       "      <td>0</td>\n",
       "      <td>2000000.0</td>\n",
       "    </tr>\n",
       "  </tbody>\n",
       "</table>\n",
       "</div>"
      ],
      "text/plain": [
       "         0           1\n",
       "0  4000000    500000.0\n",
       "1  1000000   1500000.0\n",
       "2        0  50000000.0\n",
       "3  1000000   5000000.0\n",
       "4        0   2000000.0"
      ]
     },
     "execution_count": 461,
     "metadata": {},
     "output_type": "execute_result"
    }
   ],
   "source": [
    "result = pd.concat([df1_cap, df2_cap], axis=1) #左側為設立公司資本額、右側為解散公司資本額\n",
    "result[:5]"
   ]
  },
  {
   "cell_type": "code",
   "execution_count": 462,
   "metadata": {
    "collapsed": false
   },
   "outputs": [
    {
     "name": "stdout",
     "output_type": "stream",
     "text": [
      "600000000 0\n"
     ]
    },
    {
     "data": {
      "image/png": "[encoded data removed]",
      "text/plain": [
       "<matplotlib.figure.Figure at 0x7f02a6f3a518>"
      ]
     },
     "metadata": {},
     "output_type": "display_data"
    }
   ],
   "source": [
    "import matplotlib.pyplot as plt  \n",
    "import numpy as np\n",
    "plt.style.use('ggplot')\n",
    "\n",
    "print (df1_cap.max(),df1_cap.min())\n",
    "r = plt.boxplot(df1_cap, showfliers=False) #透過箱型圖來檢視設立公司資本額分佈\n",
    "plt.show()"
   ]
  },
  {
   "cell_type": "code",
   "execution_count": 463,
   "metadata": {
    "collapsed": false
   },
   "outputs": [
    {
     "data": {
      "text/html": [
       "<div>\n",
       "<table border=\"1\" class=\"dataframe\">\n",
       "  <thead>\n",
       "    <tr style=\"text-align: right;\">\n",
       "      <th></th>\n",
       "      <th>序號</th>\n",
       "      <th>統一編號</th>\n",
       "      <th>資本額</th>\n",
       "      <th>核准設立日期</th>\n",
       "    </tr>\n",
       "  </thead>\n",
       "  <tbody>\n",
       "    <tr>\n",
       "      <th>序號</th>\n",
       "      <td>1.000000</td>\n",
       "      <td>0.975414</td>\n",
       "      <td>-0.031120</td>\n",
       "      <td>0.102127</td>\n",
       "    </tr>\n",
       "    <tr>\n",
       "      <th>統一編號</th>\n",
       "      <td>0.975414</td>\n",
       "      <td>1.000000</td>\n",
       "      <td>-0.022234</td>\n",
       "      <td>-0.001749</td>\n",
       "    </tr>\n",
       "    <tr>\n",
       "      <th>資本額</th>\n",
       "      <td>-0.031120</td>\n",
       "      <td>-0.022234</td>\n",
       "      <td>1.000000</td>\n",
       "      <td>0.002239</td>\n",
       "    </tr>\n",
       "    <tr>\n",
       "      <th>核准設立日期</th>\n",
       "      <td>0.102127</td>\n",
       "      <td>-0.001749</td>\n",
       "      <td>0.002239</td>\n",
       "      <td>1.000000</td>\n",
       "    </tr>\n",
       "  </tbody>\n",
       "</table>\n",
       "</div>"
      ],
      "text/plain": [
       "              序號      統一編號       資本額    核准設立日期\n",
       "序號      1.000000  0.975414 -0.031120  0.102127\n",
       "統一編號    0.975414  1.000000 -0.022234 -0.001749\n",
       "資本額    -0.031120 -0.022234  1.000000  0.002239\n",
       "核准設立日期  0.102127 -0.001749  0.002239  1.000000"
      ]
     },
     "execution_count": 463,
     "metadata": {},
     "output_type": "execute_result"
    }
   ],
   "source": [
    "df1.corr()   #相關性分析來看設立公司資料,檢視統一編號有無跟什麼有相關？"
   ]
  },
  {
   "cell_type": "code",
   "execution_count": 464,
   "metadata": {
    "collapsed": false
   },
   "outputs": [
    {
     "data": {
      "text/html": [
       "<div>\n",
       "<table border=\"1\" class=\"dataframe\">\n",
       "  <thead>\n",
       "    <tr style=\"text-align: right;\">\n",
       "      <th></th>\n",
       "      <th>﻿\"序號\"</th>\n",
       "      <th>統一編號</th>\n",
       "      <th>資本額</th>\n",
       "      <th>核准設立日期</th>\n",
       "      <th>核准解散日期</th>\n",
       "    </tr>\n",
       "  </thead>\n",
       "  <tbody>\n",
       "    <tr>\n",
       "      <th>﻿\"序號\"</th>\n",
       "      <td>1.000000</td>\n",
       "      <td>0.952327</td>\n",
       "      <td>0.034121</td>\n",
       "      <td>0.070035</td>\n",
       "      <td>0.016460</td>\n",
       "    </tr>\n",
       "    <tr>\n",
       "      <th>統一編號</th>\n",
       "      <td>0.952327</td>\n",
       "      <td>1.000000</td>\n",
       "      <td>0.034579</td>\n",
       "      <td>-0.072577</td>\n",
       "      <td>0.000387</td>\n",
       "    </tr>\n",
       "    <tr>\n",
       "      <th>資本額</th>\n",
       "      <td>0.034121</td>\n",
       "      <td>0.034579</td>\n",
       "      <td>1.000000</td>\n",
       "      <td>-0.025129</td>\n",
       "      <td>0.003222</td>\n",
       "    </tr>\n",
       "    <tr>\n",
       "      <th>核准設立日期</th>\n",
       "      <td>0.070035</td>\n",
       "      <td>-0.072577</td>\n",
       "      <td>-0.025129</td>\n",
       "      <td>1.000000</td>\n",
       "      <td>0.057618</td>\n",
       "    </tr>\n",
       "    <tr>\n",
       "      <th>核准解散日期</th>\n",
       "      <td>0.016460</td>\n",
       "      <td>0.000387</td>\n",
       "      <td>0.003222</td>\n",
       "      <td>0.057618</td>\n",
       "      <td>1.000000</td>\n",
       "    </tr>\n",
       "  </tbody>\n",
       "</table>\n",
       "</div>"
      ],
      "text/plain": [
       "           ﻿\"序號\"      統一編號       資本額    核准設立日期    核准解散日期\n",
       "﻿\"序號\"   1.000000  0.952327  0.034121  0.070035  0.016460\n",
       "統一編號    0.952327  1.000000  0.034579 -0.072577  0.000387\n",
       "資本額     0.034121  0.034579  1.000000 -0.025129  0.003222\n",
       "核准設立日期  0.070035 -0.072577 -0.025129  1.000000  0.057618\n",
       "核准解散日期  0.016460  0.000387  0.003222  0.057618  1.000000"
      ]
     },
     "execution_count": 464,
     "metadata": {},
     "output_type": "execute_result"
    }
   ],
   "source": [
    "df2.corr()  #相關性分析來看解散公司資料"
   ]
  },
  {
   "cell_type": "code",
   "execution_count": 465,
   "metadata": {
    "collapsed": false
   },
   "outputs": [
    {
     "data": {
      "text/plain": [
       "<matplotlib.axes._subplots.AxesSubplot at 0x7f02a6f00898>"
      ]
     },
     "execution_count": 465,
     "metadata": {},
     "output_type": "execute_result"
    },
    {
     "data": {
      "image/png": "[encoded data removed]",
      "text/plain": [
       "<matplotlib.figure.Figure at 0x7f02a7265ef0>"
      ]
     },
     "metadata": {},
     "output_type": "display_data"
    }
   ],
   "source": [
    "plt.rcParams['axes.unicode_minus']=False \n",
    "df1.plot(kind='scatter',title='ID v.s. #',figsize=(6,4),x='統一編號',y='序號',marker='+')"
   ]
  },
  {
   "cell_type": "code",
   "execution_count": 466,
   "metadata": {
    "collapsed": false
   },
   "outputs": [
    {
     "name": "stdout",
     "output_type": "stream",
     "text": [
      "6063000000 0\n"
     ]
    },
    {
     "data": {
      "image/png": "[encoded data removed]",
      "text/plain": [
       "<matplotlib.figure.Figure at 0x7f02a6e2c278>"
      ]
     },
     "metadata": {},
     "output_type": "display_data"
    }
   ],
   "source": [
    "print (df2_cap.max(),df2_cap.min())\n",
    "plt.boxplot(df2_cap, showfliers=False) #透過箱型圖來檢視解散公司資本額分佈\n",
    "plt.show()"
   ]
  },
  {
   "cell_type": "markdown",
   "metadata": {},
   "source": [
    "視覺化擇二： Matplotlib做圖_直方圖、折線圖"
   ]
  },
  {
   "cell_type": "code",
   "execution_count": 467,
   "metadata": {
    "collapsed": false
   },
   "outputs": [
    {
     "data": {
      "text/html": [
       "<div>\n",
       "<table border=\"1\" class=\"dataframe\">\n",
       "  <thead>\n",
       "    <tr style=\"text-align: right;\">\n",
       "      <th></th>\n",
       "      <th>序號</th>\n",
       "      <th>統一編號</th>\n",
       "      <th>公司名稱</th>\n",
       "      <th>公司所在地</th>\n",
       "      <th>資本額</th>\n",
       "      <th>核准設立日期</th>\n",
       "      <th>所在地</th>\n",
       "      <th>年月</th>\n",
       "      <th>資本規模</th>\n",
       "    </tr>\n",
       "  </thead>\n",
       "  <tbody>\n",
       "    <tr>\n",
       "      <th>0</th>\n",
       "      <td>1</td>\n",
       "      <td>28114200</td>\n",
       "      <td>鼎謙科技股份有限公司</td>\n",
       "      <td>苗栗縣竹南鎮科東三路18號1樓</td>\n",
       "      <td>4000000</td>\n",
       "      <td>1051006</td>\n",
       "      <td>苗栗縣</td>\n",
       "      <td>10510</td>\n",
       "      <td>B</td>\n",
       "    </tr>\n",
       "    <tr>\n",
       "      <th>1</th>\n",
       "      <td>2</td>\n",
       "      <td>28114216</td>\n",
       "      <td>創玖科技股份有限公司</td>\n",
       "      <td>新竹市力行一路1號1樓之1B5-3</td>\n",
       "      <td>1000000</td>\n",
       "      <td>1051014</td>\n",
       "      <td>新竹市</td>\n",
       "      <td>10510</td>\n",
       "      <td>B</td>\n",
       "    </tr>\n",
       "    <tr>\n",
       "      <th>2</th>\n",
       "      <td>3</td>\n",
       "      <td>51017601</td>\n",
       "      <td>大陸商太倉廣福農業開發有限公司</td>\n",
       "      <td>臺北市信義區忠孝東路5段1-8號2樓</td>\n",
       "      <td>0</td>\n",
       "      <td>1051006</td>\n",
       "      <td>臺北市</td>\n",
       "      <td>10510</td>\n",
       "      <td>C</td>\n",
       "    </tr>\n",
       "    <tr>\n",
       "      <th>3</th>\n",
       "      <td>4</td>\n",
       "      <td>51034209</td>\n",
       "      <td>澳洲商盈盛市場行銷顧問股份有限公司</td>\n",
       "      <td>臺北市中山區松江路122號11樓</td>\n",
       "      <td>1000000</td>\n",
       "      <td>1051003</td>\n",
       "      <td>臺北市</td>\n",
       "      <td>10510</td>\n",
       "      <td>B</td>\n",
       "    </tr>\n",
       "    <tr>\n",
       "      <th>4</th>\n",
       "      <td>5</td>\n",
       "      <td>51039204</td>\n",
       "      <td>菲律賓商主恩漁業股份限公司</td>\n",
       "      <td>高雄市前鎮區萬和街12號13樓</td>\n",
       "      <td>0</td>\n",
       "      <td>1051013</td>\n",
       "      <td>高雄市</td>\n",
       "      <td>10510</td>\n",
       "      <td>C</td>\n",
       "    </tr>\n",
       "  </tbody>\n",
       "</table>\n",
       "</div>"
      ],
      "text/plain": [
       "   序號      統一編號               公司名稱               公司所在地      資本額   核准設立日期  所在地  \\\n",
       "0   1  28114200         鼎謙科技股份有限公司     苗栗縣竹南鎮科東三路18號1樓  4000000  1051006  苗栗縣   \n",
       "1   2  28114216         創玖科技股份有限公司   新竹市力行一路1號1樓之1B5-3  1000000  1051014  新竹市   \n",
       "2   3  51017601    大陸商太倉廣福農業開發有限公司  臺北市信義區忠孝東路5段1-8號2樓        0  1051006  臺北市   \n",
       "3   4  51034209  澳洲商盈盛市場行銷顧問股份有限公司    臺北市中山區松江路122號11樓  1000000  1051003  臺北市   \n",
       "4   5  51039204      菲律賓商主恩漁業股份限公司     高雄市前鎮區萬和街12號13樓        0  1051013  高雄市   \n",
       "\n",
       "      年月 資本規模  \n",
       "0  10510    B  \n",
       "1  10510    B  \n",
       "2  10510    C  \n",
       "3  10510    B  \n",
       "4  10510    C  "
      ]
     },
     "execution_count": 467,
     "metadata": {},
     "output_type": "execute_result"
    }
   ],
   "source": [
    "import matplotlib.pyplot as plt\n",
    "import pandas as pd\n",
    "import numpy as np\n",
    "plt.style.use('ggplot')\n",
    "\n",
    "#pandas作圖不使用plt.show()，若要顯示在Jupyter Notebook上，需先執行以下程式碼：（%是在ipython shell中執行command line的意思）\n",
    "%matplotlib inline\n",
    "\n",
    "plt.rcParams['font.family']='Simhei' #顯示中文\n",
    "#對設立公司的資本額做分群, 台灣徵信對於中小型企業有3000萬為一個徵信門檻,經濟部則是製造業、營造業、礦業及土石採取業實收資本額在新臺幣八千萬元以下\n",
    "bins = [0,300000,8000000,10000000]\n",
    "pd.cut(df1['資本額'],bins, right=False)\n",
    "labels = ['C','B','A']\n",
    "\n",
    "df1['資本規模'] = pd.cut(df1['資本額'],bins, right=False, labels=labels)\n",
    "df1[:5]"
   ]
  },
  {
   "cell_type": "code",
   "execution_count": 468,
   "metadata": {
    "collapsed": false
   },
   "outputs": [
    {
     "data": {
      "text/html": [
       "<div>\n",
       "<table border=\"1\" class=\"dataframe\">\n",
       "  <thead>\n",
       "    <tr style=\"text-align: right;\">\n",
       "      <th>資本規模</th>\n",
       "      <th>C</th>\n",
       "      <th>B</th>\n",
       "      <th>A</th>\n",
       "    </tr>\n",
       "    <tr>\n",
       "      <th>年月</th>\n",
       "      <th></th>\n",
       "      <th></th>\n",
       "      <th></th>\n",
       "    </tr>\n",
       "  </thead>\n",
       "  <tbody>\n",
       "    <tr>\n",
       "      <th>10509</th>\n",
       "      <td>3593000</td>\n",
       "      <td>190705000</td>\n",
       "      <td>16800000</td>\n",
       "    </tr>\n",
       "    <tr>\n",
       "      <th>10510</th>\n",
       "      <td>81536556</td>\n",
       "      <td>4149444916</td>\n",
       "      <td>189000000</td>\n",
       "    </tr>\n",
       "  </tbody>\n",
       "</table>\n",
       "</div>"
      ],
      "text/plain": [
       "資本規模          C           B          A\n",
       "年月                                    \n",
       "10509   3593000   190705000   16800000\n",
       "10510  81536556  4149444916  189000000"
      ]
     },
     "execution_count": 468,
     "metadata": {},
     "output_type": "execute_result"
    }
   ],
   "source": [
    "#利用Pivot Table來檢視資本規模\n",
    "df1_scale=df1.pivot_table(values='資本額',index=['年月'],columns='資本規模',aggfunc='sum')\n",
    "df1_scale"
   ]
  },
  {
   "cell_type": "code",
   "execution_count": 469,
   "metadata": {
    "collapsed": false
   },
   "outputs": [
    {
     "data": {
      "text/plain": [
       "資本規模\n",
       "C     673\n",
       "B    2560\n",
       "A      25\n",
       "dtype: int64"
      ]
     },
     "execution_count": 469,
     "metadata": {},
     "output_type": "execute_result"
    }
   ],
   "source": [
    "df1_counts = df1.groupby('資本規模').size() #計數總共有幾間設立公司，分屬A(大）,B(中),C(小)企業\n",
    "df1_counts"
   ]
  },
  {
   "cell_type": "markdown",
   "metadata": {},
   "source": [
    "Matplotlib 多圖合一 , 將大型企業、中型企業、小型企業總額與個數同時做圖.\n",
    "目的在了解台灣設立公司中，中小型企業與大型企業在數量上與貢獻的總資本額的差異"
   ]
  },
  {
   "cell_type": "code",
   "execution_count": 470,
   "metadata": {
    "collapsed": false
   },
   "outputs": [
    {
     "data": {
      "image/png": "[encoded data removed]",
      "text/plain": [
       "<matplotlib.figure.Figure at 0x7f02a6de7518>"
      ]
     },
     "metadata": {},
     "output_type": "display_data"
    }
   ],
   "source": [
    "import matplotlib.pyplot as plt\n",
    "plt.style.use('ggplot')\n",
    "\n",
    "plt.figure(figsize=(6,6))\n",
    "x = [1,2,3]  #3表示大型; 2表中型; 1表小型企業\n",
    "y1 = [81536556,190705000,16800000] \n",
    "y2 = [673,2560,25]\n",
    "\n",
    "ax1 = plt.subplot(211) #2x1的第1張圖\n",
    "plt.plot(x,y1,'-')\n",
    "plt.setp(ax1.get_xticklabels(), visible=False) #不顯示x軸ticks\n",
    "plt.subplot(212,sharex=ax1) #2x1的第2張圖\n",
    "plt.bar(x,y2,align='center')\n",
    "plt.show()"
   ]
  },
  {
   "cell_type": "code",
   "execution_count": 471,
   "metadata": {
    "collapsed": false
   },
   "outputs": [
    {
     "data": {
      "text/html": [
       "<div>\n",
       "<table border=\"1\" class=\"dataframe\">\n",
       "  <thead>\n",
       "    <tr style=\"text-align: right;\">\n",
       "      <th></th>\n",
       "      <th>﻿\"序號\"</th>\n",
       "      <th>統一編號</th>\n",
       "      <th>公司名稱</th>\n",
       "      <th>公司所在地</th>\n",
       "      <th>資本額</th>\n",
       "      <th>核准設立日期</th>\n",
       "      <th>核准解散日期</th>\n",
       "      <th>所在地</th>\n",
       "      <th>年月</th>\n",
       "      <th>資本規模</th>\n",
       "    </tr>\n",
       "  </thead>\n",
       "  <tbody>\n",
       "    <tr>\n",
       "      <th>0</th>\n",
       "      <td>1</td>\n",
       "      <td>673435</td>\n",
       "      <td>基山鐘錶眼鏡有限公司</td>\n",
       "      <td>基隆市忠二路三二號</td>\n",
       "      <td>500000</td>\n",
       "      <td>640816</td>\n",
       "      <td>1051007</td>\n",
       "      <td>基隆市</td>\n",
       "      <td>10510</td>\n",
       "      <td>B</td>\n",
       "    </tr>\n",
       "    <tr>\n",
       "      <th>1</th>\n",
       "      <td>2</td>\n",
       "      <td>3207048</td>\n",
       "      <td>利泰科學儀器有限公司</td>\n",
       "      <td>臺北市松山區寶清街34號1樓</td>\n",
       "      <td>1500000</td>\n",
       "      <td>740808</td>\n",
       "      <td>1051014</td>\n",
       "      <td>臺北市</td>\n",
       "      <td>10510</td>\n",
       "      <td>B</td>\n",
       "    </tr>\n",
       "    <tr>\n",
       "      <th>2</th>\n",
       "      <td>3</td>\n",
       "      <td>3600470</td>\n",
       "      <td>東益貿易股份有限公司</td>\n",
       "      <td>臺北市中山區復興北路2號11樓之6</td>\n",
       "      <td>50000000</td>\n",
       "      <td>480304</td>\n",
       "      <td>1051004</td>\n",
       "      <td>臺北市</td>\n",
       "      <td>10510</td>\n",
       "      <td>NaN</td>\n",
       "    </tr>\n",
       "    <tr>\n",
       "      <th>3</th>\n",
       "      <td>4</td>\n",
       "      <td>4383850</td>\n",
       "      <td>幸德實業股份有限公司</td>\n",
       "      <td>臺北市大同區重慶北路3段96號3樓之2</td>\n",
       "      <td>5000000</td>\n",
       "      <td>620808</td>\n",
       "      <td>1051006</td>\n",
       "      <td>臺北市</td>\n",
       "      <td>10510</td>\n",
       "      <td>B</td>\n",
       "    </tr>\n",
       "    <tr>\n",
       "      <th>4</th>\n",
       "      <td>5</td>\n",
       "      <td>4506500</td>\n",
       "      <td>汎辰企業有限公司</td>\n",
       "      <td>新北市三重區重陽路4段41號(1樓)</td>\n",
       "      <td>2000000</td>\n",
       "      <td>710429</td>\n",
       "      <td>1051020</td>\n",
       "      <td>新北市</td>\n",
       "      <td>10510</td>\n",
       "      <td>B</td>\n",
       "    </tr>\n",
       "  </tbody>\n",
       "</table>\n",
       "</div>"
      ],
      "text/plain": [
       "   ﻿\"序號\"     統一編號        公司名稱                公司所在地       資本額  核准設立日期   核准解散日期  \\\n",
       "0      1   673435  基山鐘錶眼鏡有限公司            基隆市忠二路三二號    500000  640816  1051007   \n",
       "1      2  3207048  利泰科學儀器有限公司       臺北市松山區寶清街34號1樓   1500000  740808  1051014   \n",
       "2      3  3600470  東益貿易股份有限公司    臺北市中山區復興北路2號11樓之6  50000000  480304  1051004   \n",
       "3      4  4383850  幸德實業股份有限公司  臺北市大同區重慶北路3段96號3樓之2   5000000  620808  1051006   \n",
       "4      5  4506500    汎辰企業有限公司   新北市三重區重陽路4段41號(1樓)   2000000  710429  1051020   \n",
       "\n",
       "   所在地     年月 資本規模  \n",
       "0  基隆市  10510    B  \n",
       "1  臺北市  10510    B  \n",
       "2  臺北市  10510  NaN  \n",
       "3  臺北市  10510    B  \n",
       "4  新北市  10510    B  "
      ]
     },
     "execution_count": 471,
     "metadata": {},
     "output_type": "execute_result"
    }
   ],
   "source": [
    "#同樣對解散公司的資本額做分群與做圖\n",
    "\n",
    "bins_dismiss = [0,300000,8000000,10000000]\n",
    "pd.cut(df2['資本額'],bins, right=False)\n",
    "labels = ['C','B','A']\n",
    "\n",
    "df2['資本規模'] = pd.cut(df2['資本額'],bins, right=False, labels=labels)\n",
    "df2[:5]"
   ]
  },
  {
   "cell_type": "code",
   "execution_count": 472,
   "metadata": {
    "collapsed": false
   },
   "outputs": [
    {
     "data": {
      "text/html": [
       "<div>\n",
       "<table border=\"1\" class=\"dataframe\">\n",
       "  <thead>\n",
       "    <tr style=\"text-align: right;\">\n",
       "      <th>資本規模</th>\n",
       "      <th>C</th>\n",
       "      <th>B</th>\n",
       "      <th>A</th>\n",
       "    </tr>\n",
       "    <tr>\n",
       "      <th>年月</th>\n",
       "      <th></th>\n",
       "      <th></th>\n",
       "      <th></th>\n",
       "    </tr>\n",
       "  </thead>\n",
       "  <tbody>\n",
       "    <tr>\n",
       "      <th>10509</th>\n",
       "      <td>0</td>\n",
       "      <td>280900000</td>\n",
       "      <td>33000000</td>\n",
       "    </tr>\n",
       "    <tr>\n",
       "      <th>10510</th>\n",
       "      <td>21418200</td>\n",
       "      <td>2342356819</td>\n",
       "      <td>175590120</td>\n",
       "    </tr>\n",
       "  </tbody>\n",
       "</table>\n",
       "</div>"
      ],
      "text/plain": [
       "資本規模          C           B          A\n",
       "年月                                    \n",
       "10509         0   280900000   33000000\n",
       "10510  21418200  2342356819  175590120"
      ]
     },
     "execution_count": 472,
     "metadata": {},
     "output_type": "execute_result"
    }
   ],
   "source": [
    "#利用Pivot Table來檢視資本規模\n",
    "df2_scale=df2.pivot_table(values='資本額',index=['年月'],columns='資本規模',aggfunc='sum')\n",
    "df2_scale"
   ]
  },
  {
   "cell_type": "code",
   "execution_count": 473,
   "metadata": {
    "collapsed": false
   },
   "outputs": [
    {
     "data": {
      "text/plain": [
       "資本規模\n",
       "C     166\n",
       "B    1209\n",
       "A      25\n",
       "dtype: int64"
      ]
     },
     "execution_count": 473,
     "metadata": {},
     "output_type": "execute_result"
    }
   ],
   "source": [
    "df2_counts = df2.groupby('資本規模').size() #計數總共有幾間設立公司，分屬A(大）,B(中),C(小)企業\n",
    "df2_counts"
   ]
  },
  {
   "cell_type": "code",
   "execution_count": 474,
   "metadata": {
    "collapsed": false
   },
   "outputs": [
    {
     "data": {
      "image/png": "[encoded data removed]",
      "text/plain": [
       "<matplotlib.figure.Figure at 0x7f02a6a95208>"
      ]
     },
     "metadata": {},
     "output_type": "display_data"
    }
   ],
   "source": [
    "plt.figure(figsize=(6,6))\n",
    "x = [1,2,3]  #3表示大型; 2表中型; 1表小型企業\n",
    "y1 = [21418200,2342356819,175590120] \n",
    "y2 = [166,1209,25]\n",
    "\n",
    "ax1 = plt.subplot(211) #2x1的第1張圖\n",
    "plt.plot(x,y1,'-')\n",
    "plt.setp(ax1.get_xticklabels(), visible=False) #不顯示x軸ticks\n",
    "plt.subplot(212,sharex=ax1) #2x1的第2張圖\n",
    "plt.bar(x,y2,align='center')\n",
    "plt.show()"
   ]
  },
  {
   "cell_type": "markdown",
   "metadata": {},
   "source": [
    "基礎機器學習擇一:(線性回歸、Logistic迴歸與評估、決策分類樹與評估、K-means分群與視覺化)"
   ]
  }
 ],
 "metadata": {
  "anaconda-cloud": {},
  "kernelspec": {
   "display_name": "Python 3",
   "language": "python",
   "name": "python3"
  },
  "language_info": {
   "codemirror_mode": {
    "name": "ipython",
    "version": 3
   },
   "file_extension": ".py",
   "mimetype": "text/x-python",
   "name": "python",
   "nbconvert_exporter": "python",
   "pygments_lexer": "ipython3",
   "version": "3.5.2"
  }
 },
 "nbformat": 4,
 "nbformat_minor": 1
}
